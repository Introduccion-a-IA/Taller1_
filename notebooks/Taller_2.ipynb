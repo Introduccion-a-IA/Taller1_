{
  "cells": [
    {
      "cell_type": "markdown",
      "metadata": {},
      "source": [
        "# Taller Integrador – Sistema Experto de Eficiencia Energética(ejemplo)\n",
        "\n",
        "**Nombre del Archivo a evaluar:** `Taller_1.ipynb`  \n",
        "**Objetivo:** Sistema experto que detecta **sobreconsumo**, explica **trazabilidad** y propone **acciones**; valida **normalización**.\n"
      ]
    },
    {
      "cell_type": "markdown",
      "metadata": {},
      "source": [
        "## Instrucciones*\n",
        "\n",
        "- Mantén los **nombres** de clases/campos requeridos por el autograder: `Dispositivo`, `Habito`, `Medicion`, `Hipotesis`, `Accion`, `SistemaEnergia`, `declarar_base`, `RESULTADOS`.\n",
        "- Uso de `salience` y **trazabilidad** (imprime reglas activadas con el prefijo `ACTIVADA:`).\n",
        "- Escenarios implementados:\n",
        "  - **A:** AC > umbral + `ac_puertas_abiertas` ⇒ `sobreconsumo_clima` (**crítica**).\n",
        "  - **B:** Iluminación + `luces_encendidas_sin_uso` > baseline ⇒ `iluminacion_ineficiente` (**media**).\n",
        "  - **C:** Normalización (consumo vuelve a baseline) ⇒ retractar hipótesis previa y declarar `consumo_normalizado` (**baja**).\n"
      ]
    },
    {
      "cell_type": "markdown",
      "id": "88cd0cc1",
      "metadata": {},
      "source": [
        "## Retirar la linea de codigo !pip install experta antes de subir los cambios"
      ]
    },
    {
      "cell_type": "code",
      "execution_count": null,
      "id": "caaeadae",
      "metadata": {},
      "outputs": [],
      "source": [
        "import collections.abc\n",
        "if not hasattr(collections, 'Mapping'):\n",
        "    collections.Mapping = collections.abc.Mapping"
      ]
    },
    {
      "cell_type": "code",
      "execution_count": null,
      "metadata": {},
      "outputs": [],
      "source": [
        "# --- Setup ---\n",
        "import pandas as pd\n",
        "from experta import Fact, KnowledgeEngine, Rule, AND, OR, NOT, TEST, MATCH\n"
      ]
    },
    {
      "cell_type": "code",
      "execution_count": null,
      "metadata": {},
      "outputs": [],
      "source": [
        "# --- Catálogo AUTOCONTENIDO ---\n",
        "DATA_DEVICES = [\n",
        "    (\"Nevera (Inverter)\", 120, 24.0, 2.88, 3.60, \"kWh_24h_enchufe_inteligente\", \"Ajustar 3–5 °C; limpiar sellos; despejar rejillas\"),\n",
        "    (\"Aire acondicionado 12000 BTU\", 1200, 6.0, 7.20, 9.00, \"kWh_6h_intervalo\", \"Cerrar puertas/ventanas; setpoint 23–25 °C; limpiar filtros\"),\n",
        "    (\"Lavadora (ciclo activo)\", 500, 1.0, 0.50, 0.63, \"kWh_por_ciclo\", \"Cargas completas; modo eco; fuera de pico\"),\n",
        "    (\"Secadora eléctrica\", 2000, 0.8, 1.60, 2.00, \"kWh_por_ciclo\", \"Tender al aire; limpiar filtros; cargas completas\"),\n",
        "    (\"Horno microondas\", 1200, 0.3, 0.36, 0.45, \"kWh_por_uso\", \"Tiempos exactos; cubrir alimentos\"),\n",
        "    (\"Televisor LED 43\\\"\", 80, 5.0, 0.40, 0.50, \"kWh_diario\", \"Autoapagado; evitar standby prolongado\"),\n",
        "    (\"Computador portátil\", 65, 6.0, 0.39, 0.49, \"kWh_diario\", \"Ahorro de energía; desconectar cargador al 80–90%\"),\n",
        "    (\"Router WiFi\", 10, 24.0, 0.24, 0.30, \"kWh_24h\", \"Programar apagado nocturno si no se usa\"),\n",
        "    (\"Iluminación LED x10\", 90, 4.0, 0.36, 0.45, \"kWh_diario\", \"Sensores o política de apagado; bombillos 5–7 W\"),\n",
        "    (\"Ducha eléctrica/instantáneo\", 3500, 0.4, 1.40, 1.75, \"kWh_por_uso\", \"Ducha 5–7 min; regular caudal; aislar tuberías\"),\n",
        "]\n",
        "\n",
        "DATA_HABITS = [\n",
        "    (\"luces_encendidas_sin_uso\", \"Dejar luces encendidas en zonas desocupadas.\", \"Iluminación LED x10\"),\n",
        "    (\"standby_tv\", \"Televisor en modo standby toda la noche.\", \"Televisor LED 43\\\"\"),\n",
        "    (\"ac_puertas_abiertas\", \"Usar aire acondicionado con puertas/ventanas abiertas.\", \"Aire acondicionado 12000 BTU\"),\n",
        "    (\"nevera_mala_config\", \"Temperatura de nevera fuera de rango (muy baja).\", \"Nevera (Inverter)\"),\n",
        "    (\"cargas_fuera_pico\", \"Uso de alta potencia en horas pico.\", \"Lavadora; Secadora eléctrica; Ducha eléctrica/instantáneo\"),\n",
        "    (\"router_24_7\", \"Router encendido 24/7 sin necesidad.\", \"Router WiFi\"),\n",
        "    (\"portatil_cargador_siempre\", \"Portátil conectado al cargador permanentemente.\", \"Computador portátil\"),\n",
        "    (\"microondas_recalentados_largos\", \"Recalentar por tiempos mayores a lo necesario.\", \"Horno microondas\"),\n",
        "    (\"ducha_larga\", \"Duchas prolongadas (>8 min).\", \"Ducha eléctrica/instantáneo\"),\n",
        "    (\"lavadoras_parciales\", \"Lavar con cargas parciales frecuentes.\", \"Lavadora (ciclo activo)\"),\n",
        "]\n",
        "\n",
        "df_devices = pd.DataFrame(DATA_DEVICES, columns=[\n",
        "    \"device_name\",\"power_w\",\"baseline_hours_per_day\",\"kwh_day_baseline\",\n",
        "    \"kwh_day_high_threshold\",\"measure_channel\",\"suggested_actions\"\n",
        "])\n",
        "df_devices[\"key\"] = df_devices[\"device_name\"].str.lower()\n",
        "df_habits = pd.DataFrame(DATA_HABITS, columns=[\"habit_code\",\"description\",\"target_devices\"])\n",
        "\n",
        "def dev_key(nombre:str)->str: return nombre.strip().lower()\n",
        "def get_device_row(df, nombre):\n",
        "    row = df[df[\"key\"] == dev_key(nombre)]\n",
        "    if row.empty: raise KeyError(f\"Dispositivo no encontrado: {nombre}\")\n",
        "    return row.iloc[0]\n",
        "def threshold_day(df, nombre): return float(get_device_row(df, nombre)[\"kwh_day_high_threshold\"])\n",
        "def baseline_day(df, nombre): return float(get_device_row(df, nombre)[\"kwh_day_baseline\"])\n",
        "def suggested_action(df, nombre): return str(get_device_row(df, nombre).get(\"suggested_actions\", \"\"))\n"
      ]
    },
    {
      "cell_type": "code",
      "execution_count": null,
      "metadata": {},
      "outputs": [],
      "source": [
        "# --- Hechos base ---\n",
        "class Dispositivo(Fact): pass\n",
        "class Habito(Fact): pass\n",
        "class Medicion(Fact): pass\n",
        "class Hipotesis(Fact): pass\n",
        "class Accion(Fact): pass\n"
      ]
    },
    {
      "cell_type": "code",
      "execution_count": null,
      "metadata": {},
      "outputs": [],
      "source": [
        "# --- Motor de inferencia ---\n",
        "class SistemaEnergia(KnowledgeEngine):\n",
        "    @Rule(Dispositivo(tipo='aire_acondicionado'),\n",
        "          Medicion(dispositivo='aire_acondicionado', kwh_periodo=MATCH.k, periodo=MATCH.p),\n",
        "          TEST(lambda k, p: (k if p=='dia' else k*4) > threshold_day(df_devices, 'Aire acondicionado 12000 BTU')),\n",
        "          salience=90)\n",
        "    def ac_sobreconsumo(self, k, p):\n",
        "        print(f\"ACTIVADA: ac_sobreconsumo | periodo={p} | kwh={k:.2f}\")\n",
        "        self.declare(Hipotesis(motivo='sobreconsumo_clima', severidad='alta'))\n",
        "        self.declare(Accion(texto=suggested_action(df_devices, 'Aire acondicionado 12000 BTU'),\n",
        "                            dispositivo_objetivo='aire_acondicionado'))\n",
        "\n",
        "    @Rule(Habito(codigo='ac_puertas_abiertas', activo=True),\n",
        "          Hipotesis(motivo='sobreconsumo_clima', severidad='alta'),\n",
        "          salience=95)\n",
        "    def ac_habito_empeora(self):\n",
        "        print(\"ACTIVADA: ac_habito_empeora | hábito=ac_puertas_abiertas -> severidad=crítica\")\n",
        "        for fid, fact in list(self.facts.items()):\n",
        "            if isinstance(fact, Hipotesis) and fact['motivo']=='sobreconsumo_clima':\n",
        "                self.retract(fid); break\n",
        "        self.declare(Hipotesis(motivo='sobreconsumo_clima', severidad='critica'))\n",
        "\n",
        "    @Rule(Dispositivo(tipo='iluminacion'),\n",
        "          Habito(codigo='luces_encendidas_sin_uso', activo=True),\n",
        "          Medicion(dispositivo='iluminacion', kwh_periodo=MATCH.k, periodo='dia'),\n",
        "          TEST(lambda k: k > baseline_day(df_devices, 'Iluminación LED x10')),\n",
        "          salience=60)\n",
        "    def luces_ineficientes(self, k):\n",
        "        print(f\"ACTIVADA: luces_ineficientes | kwh_dia={k:.2f}\")\n",
        "        self.declare(Hipotesis(motivo='iluminacion_ineficiente', severidad='media'))\n",
        "        self.declare(Accion(texto=suggested_action(df_devices, 'Iluminación LED x10'),\n",
        "                            dispositivo_objetivo='iluminacion'))\n",
        "\n",
        "    @Rule(Dispositivo(tipo='nevera'),\n",
        "          Medicion(dispositivo='nevera', kwh_periodo=MATCH.k, periodo='dia'),\n",
        "          TEST(lambda k: k > threshold_day(df_devices, 'Nevera (Inverter)')),\n",
        "          salience=70)\n",
        "    def nevera_ajuste(self, k):\n",
        "        print(f\"ACTIVADA: nevera_ajuste | kwh_dia={k:.2f}\")\n",
        "        self.declare(Hipotesis(motivo='ajuste_temp_nevera', severidad='media'))\n",
        "        self.declare(Accion(texto=suggested_action(df_devices, 'Nevera (Inverter)'),\n",
        "                            dispositivo_objetivo='nevera'))\n",
        "\n",
        "    @Rule(OR(\n",
        "            AND(Hipotesis(motivo='sobreconsumo_clima', severidad=MATCH.s),\n",
        "                Medicion(dispositivo='aire_acondicionado', kwh_periodo=MATCH.k1, periodo='dia'),\n",
        "                TEST(lambda k1: k1 <= baseline_day(df_devices, 'Aire acondicionado 12000 BTU'))),\n",
        "            AND(Hipotesis(motivo='iluminacion_ineficiente', severidad=MATCH.s),\n",
        "                Medicion(dispositivo='iluminacion', kwh_periodo=MATCH.k2, periodo='dia'),\n",
        "                TEST(lambda k2: k2 <= baseline_day(df_devices, 'Iluminación LED x10'))),\n",
        "            AND(Hipotesis(motivo='ajuste_temp_nevera', severidad=MATCH.s),\n",
        "                Medicion(dispositivo='nevera', kwh_periodo=MATCH.k3, periodo='dia'),\n",
        "                TEST(lambda k3: k3 <= baseline_day(df_devices, 'Nevera (Inverter)')))\n",
        "          ),\n",
        "          salience=100)\n",
        "    def normalizacion(self, s, k1=None, k2=None, k3=None):\n",
        "        print(\"ACTIVADA: normalizacion | consumo <= baseline -> retractar hipótesis y declarar consumo_normalizado\")\n",
        "        for fid, fact in list(self.facts.items()):\n",
        "            if isinstance(fact, Hipotesis) and fact.get('motivo') != 'consumo_normalizado':\n",
        "                self.retract(fid); break\n",
        "        self.declare(Hipotesis(motivo='consumo_normalizado', severidad='baja'))\n"
      ]
    },
    {
      "cell_type": "code",
      "execution_count": null,
      "metadata": {},
      "outputs": [],
      "source": [
        "# --- Declaración base ---\n",
        "def declarar_base(engine: KnowledgeEngine):\n",
        "    engine.declare(Dispositivo(tipo='aire_acondicionado', estado='on', potencia=1200, kwh_dia_actual=None))\n",
        "    engine.declare(Dispositivo(tipo='iluminacion', estado='on', potencia=90, kwh_dia_actual=None))\n",
        "    engine.declare(Dispositivo(tipo='nevera', estado='on', potencia=120, kwh_dia_actual=None))\n",
        "    engine.declare(Dispositivo(tipo='lavadora', estado='off', potencia=500, kwh_dia_actual=None))\n",
        "    engine.declare(Dispositivo(tipo='router', estado='on', potencia=10, kwh_dia_actual=None))\n",
        "\n",
        "    engine.declare(Habito(codigo='ac_puertas_abiertas', activo=True, dispositivo_objetivo='aire_acondicionado'))\n",
        "    engine.declare(Habito(codigo='luces_encendidas_sin_uso', activo=True, dispositivo_objetivo='iluminacion'))\n",
        "    engine.declare(Habito(codigo='nevera_mala_config', activo=False, dispositivo_objetivo='nevera'))\n"
      ]
    },
    {
      "cell_type": "code",
      "execution_count": null,
      "metadata": {},
      "outputs": [
        {
          "name": "stdout",
          "output_type": "stream",
          "text": [
            "\n",
            "--- RUN: Escenario A ---\n",
            "ACTIVADA: ac_sobreconsumo | periodo=dia | kwh=9.80\n",
            "ACTIVADA: ac_habito_empeora | hábito=ac_puertas_abiertas -> severidad=crítica\n",
            "ACTIVADA: luces_ineficientes | kwh_dia=0.46\n",
            "\n",
            "--- RUN: Escenario B ---\n",
            "ACTIVADA: luces_ineficientes | kwh_dia=0.56\n",
            "\n",
            "--- RUN: Escenario C (antes de acción) ---\n",
            "ACTIVADA: luces_ineficientes | kwh_dia=0.66\n",
            "\n",
            "--- RUN: Escenario C (después de acción) ---\n"
          ]
        },
        {
          "data": {
            "text/plain": [
              "([Hipotesis(motivo='sobreconsumo_clima', severidad='critica'),\n",
              "  Hipotesis(motivo='iluminacion_ineficiente', severidad='media')],\n",
              " [Accion(texto='Cerrar puertas/ventanas; setpoint 23–25 °C; limpiar filtros', dispositivo_objetivo='aire_acondicionado'),\n",
              "  Accion(texto='Sensores o política de apagado; bombillos 5–7 W', dispositivo_objetivo='iluminacion')],\n",
              " [Hipotesis(motivo='iluminacion_ineficiente', severidad='media')],\n",
              " [Accion(texto='Sensores o política de apagado; bombillos 5–7 W', dispositivo_objetivo='iluminacion')],\n",
              " [],\n",
              " [])"
            ]
          },
          "execution_count": 15,
          "metadata": {},
          "output_type": "execute_result"
        }
      ],
      "source": [
        "# Escenarios A/B/C (ejecución interactiva y muestra de hipótesis/acciones)\n",
        "engine = SistemaEnergia(); engine.reset(); declarar_base(engine)\n",
        "engine.declare(Medicion(dispositivo='aire_acondicionado', kwh_periodo=9.8, periodo='dia'))\n",
        "engine.declare(Medicion(dispositivo='iluminacion', kwh_periodo=baseline_day(df_devices,'Iluminación LED x10')+0.10, periodo='dia'))\n",
        "engine.declare(Medicion(dispositivo='nevera', kwh_periodo=baseline_day(df_devices,'Nevera (Inverter)')-0.20, periodo='dia'))\n",
        "print(\"\\n--- RUN: Escenario A ---\"); engine.run()\n",
        "\n",
        "engine_B = SistemaEnergia(); engine_B.reset(); declarar_base(engine_B)\n",
        "k_ilum_alto = baseline_day(df_devices, 'Iluminación LED x10') + 0.20\n",
        "engine_B.declare(Medicion(dispositivo='iluminacion', kwh_periodo=k_ilum_alto, periodo='dia'))\n",
        "engine_B.declare(Medicion(dispositivo='aire_acondicionado', kwh_periodo=baseline_day(df_devices,'Aire acondicionado 12000 BTU')-1.0, periodo='dia'))\n",
        "engine_B.declare(Medicion(dispositivo='nevera', kwh_periodo=baseline_day(df_devices,'Nevera (Inverter)')-0.10, periodo='dia'))\n",
        "print(\"\\n--- RUN: Escenario B ---\"); engine_B.run()\n",
        "\n",
        "engine_C = SistemaEnergia(); engine_C.reset(); declarar_base(engine_C)\n",
        "k_ilum_sobre = baseline_day(df_devices, 'Iluminación LED x10') + 0.30\n",
        "engine_C.declare(Medicion(dispositivo='iluminacion', kwh_periodo=k_ilum_sobre, periodo='dia'))\n",
        "engine_C.declare(Medicion(dispositivo='aire_acondicionado', kwh_periodo=baseline_day(df_devices,'Aire acondicionado 12000 BTU')-1.0, periodo='dia'))\n",
        "engine_C.declare(Medicion(dispositivo='nevera', kwh_periodo=baseline_day(df_devices,'Nevera (Inverter)')-0.10, periodo='dia'))\n",
        "print(\"\\n--- RUN: Escenario C (antes de acción) ---\"); engine_C.run()\n",
        "\n",
        "engine_C.reset(); declarar_base(engine_C)\n",
        "k_ilum_normal = baseline_day(df_devices, 'Iluminación LED x10')\n",
        "engine_C.declare(Medicion(dispositivo='iluminacion', kwh_periodo=k_ilum_normal, periodo='dia'))\n",
        "engine_C.declare(Medicion(dispositivo='aire_acondicionado', kwh_periodo=baseline_day(df_devices,'Aire acondicionado 12000 BTU')-1.0, periodo='dia'))\n",
        "engine_C.declare(Medicion(dispositivo='nevera', kwh_periodo=baseline_day(df_devices,'Nevera (Inverter)')-0.10, periodo='dia'))\n",
        "print(\"\\n--- RUN: Escenario C (después de acción) ---\"); engine_C.run()\n",
        "\n",
        "hipotesis_A = [f for f in engine.facts.values() if isinstance(f, Hipotesis)]\n",
        "acciones_A = [f for f in engine.facts.values() if isinstance(f, Accion)]\n",
        "hipotesis_B = [f for f in engine_B.facts.values() if isinstance(f, Hipotesis)]\n",
        "acciones_B = [f for f in engine_B.facts.values() if isinstance(f, Accion)]\n",
        "hipotesis_C = [f for f in engine_C.facts.values() if isinstance(f, Hipotesis)]\n",
        "acciones_C = [f for f in engine_C.facts.values() if isinstance(f, Accion)]\n",
        "\n",
        "hipotesis_A, acciones_A, hipotesis_B, acciones_B, hipotesis_C, acciones_C\n"
      ]
    },
    {
      "cell_type": "code",
      "execution_count": null,
      "metadata": {},
      "outputs": [
        {
          "name": "stdout",
          "output_type": "stream",
          "text": [
            "ACTIVADA: ac_sobreconsumo | periodo=dia | kwh=9.80\n",
            "ACTIVADA: ac_habito_empeora | hábito=ac_puertas_abiertas -> severidad=crítica\n",
            "ACTIVADA: luces_ineficientes | kwh_dia=0.56\n",
            "ACTIVADA: luces_ineficientes | kwh_dia=0.66\n"
          ]
        },
        {
          "data": {
            "text/plain": [
              "{'A': {'hipotesis': [{'motivo': 'sobreconsumo_clima',\n",
              "    'severidad': 'critica',\n",
              "    '__factid__': 12}],\n",
              "  'acciones': [{'texto': 'Cerrar puertas/ventanas; setpoint 23–25 °C; limpiar filtros',\n",
              "    'dispositivo_objetivo': 'aire_acondicionado',\n",
              "    '__factid__': 11}]},\n",
              " 'B': {'hipotesis': [{'motivo': 'iluminacion_ineficiente',\n",
              "    'severidad': 'media',\n",
              "    '__factid__': 10}],\n",
              "  'acciones': [{'texto': 'Sensores o política de apagado; bombillos 5–7 W',\n",
              "    'dispositivo_objetivo': 'iluminacion',\n",
              "    '__factid__': 11}]},\n",
              " 'C': {'hipotesis': [], 'acciones': []}}"
            ]
          },
          "execution_count": 16,
          "metadata": {},
          "output_type": "execute_result"
        }
      ],
      "source": [
        "# --- RESULTADOS (para el autograder) ---\n",
        "def resumen_facts(engine):\n",
        "    hips = [dict(f) for f in engine.facts.values() if isinstance(f, Hipotesis)]\n",
        "    accs = [dict(f) for f in engine.facts.values() if isinstance(f, Accion)]\n",
        "    return {\"hipotesis\": hips, \"acciones\": accs}\n",
        "\n",
        "def _run_A():\n",
        "    e = SistemaEnergia(); e.reset(); declarar_base(e)\n",
        "    e.declare(Medicion(dispositivo='aire_acondicionado', kwh_periodo=9.8, periodo='dia'))\n",
        "    e.run(); return resumen_facts(e)\n",
        "\n",
        "def _run_B():\n",
        "    e = SistemaEnergia(); e.reset(); declarar_base(e)\n",
        "    e.declare(Medicion(dispositivo='iluminacion', kwh_periodo=baseline_day(df_devices,'Iluminación LED x10')+0.20, periodo='dia'))\n",
        "    e.run(); return resumen_facts(e)\n",
        "\n",
        "def _run_C():\n",
        "    e = SistemaEnergia(); e.reset(); declarar_base(e)\n",
        "    # Primero simula un sobreconsumo\n",
        "    e.declare(Medicion(dispositivo='iluminacion', kwh_periodo=baseline_day(df_devices,'Iluminación LED x10')+0.3, periodo='dia'))\n",
        "    e.run()  # genera la hipótesis ilumiación_ineficiente\n",
        "\n",
        "    # Luego, normaliza el consumo\n",
        "    e.reset(); declarar_base(e)\n",
        "    e.declare(Medicion(dispositivo='iluminacion', kwh_periodo=baseline_day(df_devices,'Iluminación LED x10'), periodo='dia'))\n",
        "    e.run()\n",
        "    return resumen_facts(e)\n",
        "\n",
        "\n",
        "RESULTADOS = {\"A\": _run_A(), \"B\": _run_B(), \"C\": _run_C()}\n",
        "RESULTADOS\n"
      ]
    }
  ],
  "metadata": {
    "kernelspec": {
      "display_name": ".venv",
      "language": "python",
      "name": "python3"
    },
    "language_info": {
      "codemirror_mode": {
        "name": "ipython",
        "version": 3
      },
      "file_extension": ".py",
      "mimetype": "text/x-python",
      "name": "python",
      "nbconvert_exporter": "python",
      "pygments_lexer": "ipython3",
      "version": "3.12.10"
    }
  },
  "nbformat": 4,
  "nbformat_minor": 5
}
